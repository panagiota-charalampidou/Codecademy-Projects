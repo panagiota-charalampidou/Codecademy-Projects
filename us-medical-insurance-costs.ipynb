{
 "cells": [
  {
   "cell_type": "markdown",
   "metadata": {},
   "source": [
    "# U.S. Medical Insurance Costs"
   ]
  },
  {
   "cell_type": "markdown",
   "metadata": {},
   "source": [
    "Import data and create variables:"
   ]
  },
  {
   "cell_type": "code",
   "execution_count": 2,
   "metadata": {},
   "outputs": [],
   "source": [
    "import csv"
   ]
  },
  {
   "cell_type": "code",
   "execution_count": 11,
   "metadata": {},
   "outputs": [],
   "source": [
    "insurance_data = []\n",
    "with open('insurance.csv', newline = '') as insurance:\n",
    "    insurance_reader = csv.DictReader(insurance)\n",
    "    for row in insurance_reader:\n",
    "        insurance_data.append(row)\n",
    "    #print(insurance_data)"
   ]
  },
  {
   "cell_type": "code",
   "execution_count": 73,
   "metadata": {},
   "outputs": [],
   "source": [
    "women_children = []\n",
    "for row in insurance_data:\n",
    "    if row['sex'] == 'female':\n",
    "      women_children.append({'children' : float(row['children']), 'charges' : float(row['charges'])})\n",
    "#print(women_children)"
   ]
  },
  {
   "cell_type": "code",
   "execution_count": 35,
   "metadata": {},
   "outputs": [],
   "source": [
    "men_children = []\n",
    "for row in insurance_data:\n",
    "    if row['sex'] == 'male':\n",
    "      men_children.append({'children' : float(row['children']), 'charges' : float(row['charges'])})\n",
    "#print(men_children)"
   ]
  },
  {
   "cell_type": "code",
   "execution_count": 99,
   "metadata": {},
   "outputs": [],
   "source": [
    "region_children = []\n",
    "for row in insurance_data:\n",
    "    region_children.append({'children' : float(row['children']), 'region' : row['region']})\n",
    "#print(region_children)"
   ]
  },
  {
   "cell_type": "markdown",
   "metadata": {},
   "source": [
    "#### Investigate how the number of children affects differently the insurance costs of women and men using functions:"
   ]
  },
  {
   "cell_type": "markdown",
   "metadata": {},
   "source": [
    "First find the maximum number of children found in the dataset for women and men:"
   ]
  },
  {
   "cell_type": "code",
   "execution_count": 46,
   "metadata": {},
   "outputs": [
    {
     "name": "stdout",
     "output_type": "stream",
     "text": [
      "5.0\n"
     ]
    }
   ],
   "source": [
    "max_children_women = 0\n",
    "for item in women_children:\n",
    "    if item['children'] > max_children_women:\n",
    "        max_children_women = item['children']\n",
    "print(max_children_women)"
   ]
  },
  {
   "cell_type": "code",
   "execution_count": 47,
   "metadata": {},
   "outputs": [
    {
     "name": "stdout",
     "output_type": "stream",
     "text": [
      "5.0\n"
     ]
    }
   ],
   "source": [
    "max_children_men = 0\n",
    "for item in men_children:\n",
    "    if item['children'] > max_children_men:\n",
    "        max_children_men = item['children']\n",
    "print(max_children_men)"
   ]
  },
  {
   "cell_type": "markdown",
   "metadata": {},
   "source": [
    "Then create a function to calculate the average costs of women and men depeneding on the number of their children:"
   ]
  },
  {
   "cell_type": "code",
   "execution_count": 89,
   "metadata": {},
   "outputs": [],
   "source": [
    "def average_costs_num_children(charges_children_list):\n",
    "    average_costs_num_children = dict({0 :0, 1 : 0, 2:0, 3:0, 4:0, 5:0})\n",
    "    num_occurances0 = 0\n",
    "    num_occurances1 = 0\n",
    "    num_occurances2 = 0\n",
    "    num_occurances3 = 0\n",
    "    num_occurances4 = 0\n",
    "    num_occurances5 = 0\n",
    "    for item in charges_children_list:\n",
    "        if item['children']==0:\n",
    "            num_occurances0 +=1\n",
    "            average_costs_num_children[0] += (item['charges'])\n",
    "        elif item['children']==1:\n",
    "            num_occurances1 +=1\n",
    "            average_costs_num_children[1] += (item['charges'])\n",
    "        elif item['children']==2:\n",
    "            num_occurances2 +=1\n",
    "            average_costs_num_children[2] += (item['charges'])\n",
    "        elif item['children']==3:\n",
    "            num_occurances3 +=1\n",
    "            average_costs_num_children[3] += (item['charges'])\n",
    "        elif item['children']==4:\n",
    "            num_occurances4 +=1\n",
    "            average_costs_num_children[4] += (item['charges'])\n",
    "        elif item['children']==5:\n",
    "            num_occurances5 +=1\n",
    "            average_costs_num_children[5] += (item['charges'])\n",
    "    average_costs_num_children[0]= average_costs_num_children[0]/num_occurances0    \n",
    "    average_costs_num_children[1]= average_costs_num_children[1]/num_occurances1    \n",
    "    average_costs_num_children[2]= average_costs_num_children[2]/num_occurances2\n",
    "    average_costs_num_children[3]= average_costs_num_children[3]/num_occurances3\n",
    "    average_costs_num_children[4]= average_costs_num_children[4]/num_occurances4\n",
    "    average_costs_num_children[5]= average_costs_num_children[5]/num_occurances5\n",
    "    print(average_costs_num_children)"
   ]
  },
  {
   "cell_type": "markdown",
   "metadata": {},
   "source": [
    "Average costs for women depending on number of children:"
   ]
  },
  {
   "cell_type": "code",
   "execution_count": 90,
   "metadata": {},
   "outputs": [
    {
     "name": "stdout",
     "output_type": "stream",
     "text": [
      "{0: 11905.714275671282, 1: 12161.360414367084, 2: 13941.317326386554, 3: 13865.605066363636, 4: 13937.674561818181, 5: 9854.00641875}\n"
     ]
    }
   ],
   "source": [
    "women_avg_cost_children = average_costs_num_children(women_children)"
   ]
  },
  {
   "cell_type": "markdown",
   "metadata": {},
   "source": [
    "Average costs for men depending on number of children:"
   ]
  },
  {
   "cell_type": "code",
   "execution_count": 92,
   "metadata": {},
   "outputs": [
    {
     "name": "stdout",
     "output_type": "stream",
     "text": [
      "{0: 12832.696735684209, 1: 13273.522457710846, 2: 16187.095324876042, 3: 16789.167418500005, 4: 13782.28482857143, 5: 7931.658310000001}\n"
     ]
    }
   ],
   "source": [
    "men_avg_cost_children = average_costs_num_children(men_children)"
   ]
  },
  {
   "cell_type": "markdown",
   "metadata": {},
   "source": [
    "We see that the average insurance costs of women are only higher in the case of having 4 and 5 children, which is interesting, given that they are the ones carrying the child. Of course this analysis does not account for age, which is an important factor. Women with less children may be younger and intending to have more when they are older. Further investigation here would be needed to explain the difference in costs."
   ]
  },
  {
   "cell_type": "markdown",
   "metadata": {},
   "source": [
    "#### Investgate how the region affects the number of children:"
   ]
  },
  {
   "cell_type": "markdown",
   "metadata": {},
   "source": [
    "First let's check how many distinct regions are recorded in the data. By taking a quick look, I spotted 4 regions: southeast, southwest, northeast and northwest. Let's see if there are more:"
   ]
  },
  {
   "cell_type": "code",
   "execution_count": 96,
   "metadata": {},
   "outputs": [],
   "source": [
    "for item in region_children:\n",
    "    if item['region'] == 'southeast':\n",
    "        pass\n",
    "    elif item['region'] == 'southwest':\n",
    "        pass\n",
    "    elif item['region'] == 'northwest':\n",
    "        pass\n",
    "    elif item['region'] == 'northeast':\n",
    "        pass\n",
    "    else:\n",
    "        print(item['region'])\n",
    "    "
   ]
  },
  {
   "cell_type": "markdown",
   "metadata": {},
   "source": [
    "Nothing is returned, so I will only be working with these regions:"
   ]
  },
  {
   "cell_type": "code",
   "execution_count": 102,
   "metadata": {},
   "outputs": [
    {
     "name": "stdout",
     "output_type": "stream",
     "text": [
      "{'southeast': 1.0494505494505495, 'southwest': 1.1415384615384616, 'northwest': 1.1476923076923078, 'northeast': 1.0462962962962963}\n"
     ]
    }
   ],
   "source": [
    "def average_children_per_region(region_children):\n",
    "    average_children_per_region = {'southeast' : 0, 'southwest' : 0, 'northwest' : 0, 'northeast' : 0}\n",
    "    num_occurancesse = 0\n",
    "    num_occurancessw = 0\n",
    "    num_occurancesnw = 0\n",
    "    num_occurancesne = 0\n",
    "    for item in region_children:\n",
    "        if item['region'] == 'southeast':\n",
    "            num_occurancesse +=1\n",
    "            average_children_per_region['southeast'] += item['children']\n",
    "        if item['region'] == 'southwest':\n",
    "            num_occurancessw +=1\n",
    "            average_children_per_region['southwest'] += item['children']\n",
    "        if item['region'] == 'northwest':\n",
    "            num_occurancesnw +=1\n",
    "            average_children_per_region['northwest'] += item['children']\n",
    "        if item['region'] == 'northeast':\n",
    "            num_occurancesne +=1\n",
    "            average_children_per_region['northeast'] += item['children']\n",
    "    average_children_per_region['southeast'] = average_children_per_region['southeast']/num_occurancesse\n",
    "    average_children_per_region['southwest'] = average_children_per_region['southwest']/num_occurancessw\n",
    "    average_children_per_region['northwest'] = average_children_per_region['northwest']/num_occurancesnw\n",
    "    average_children_per_region['northeast'] = average_children_per_region['northeast']/num_occurancesne\n",
    "    print(average_children_per_region)\n",
    "\n",
    "average_children_per_region(region_children)"
   ]
  },
  {
   "cell_type": "markdown",
   "metadata": {},
   "source": [
    "We see that the average number of children per region is just a bit above 1 for every region. This should mean that in all areas the conditions are so, that households do not want to have more than 1 child. Thaw would be interesting data for motivating research into fertility rates and what characteristics of each region affect them."
   ]
  }
 ],
 "metadata": {
  "kernelspec": {
   "display_name": "Python 3",
   "language": "python",
   "name": "python3"
  },
  "language_info": {
   "codemirror_mode": {
    "name": "ipython",
    "version": 3
   },
   "file_extension": ".py",
   "mimetype": "text/x-python",
   "name": "python",
   "nbconvert_exporter": "python",
   "pygments_lexer": "ipython3",
   "version": "3.8.5"
  }
 },
 "nbformat": 4,
 "nbformat_minor": 4
}
