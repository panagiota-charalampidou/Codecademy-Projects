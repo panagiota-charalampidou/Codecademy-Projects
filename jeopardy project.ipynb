{
 "cells": [
  {
   "cell_type": "markdown",
   "metadata": {},
   "source": [
    "## Exploring data from Jeopardy"
   ]
  },
  {
   "cell_type": "markdown",
   "metadata": {},
   "source": [
    "First, load and manipulate the data:"
   ]
  },
  {
   "cell_type": "code",
   "execution_count": 1,
   "metadata": {},
   "outputs": [
    {
     "name": "stderr",
     "output_type": "stream",
     "text": [
      "<ipython-input-1-c48ba325872f>:2: FutureWarning: Passing a negative integer is deprecated in version 1.0 and will not be supported in future version. Instead, use None to not limit the column width.\n",
      "  pd.set_option('display.max_colwidth', -1)\n"
     ]
    },
    {
     "name": "stdout",
     "output_type": "stream",
     "text": [
      "   ShowNumber     AirDate      Round                         Category Value  \\\n",
      "0  4680        2004-12-31  Jeopardy!  HISTORY                          $200   \n",
      "1  4680        2004-12-31  Jeopardy!  ESPN's TOP 10 ALL-TIME ATHLETES  $200   \n",
      "2  4680        2004-12-31  Jeopardy!  EVERYBODY TALKS ABOUT IT...      $200   \n",
      "3  4680        2004-12-31  Jeopardy!  THE COMPANY LINE                 $200   \n",
      "4  4680        2004-12-31  Jeopardy!  EPITAPHS & TRIBUTES              $200   \n",
      "\n",
      "                                                                                                      Question  \\\n",
      "0  For the last 8 years of his life, Galileo was under house arrest for espousing this man's theory              \n",
      "1  No. 2: 1912 Olympian; football star at Carlisle Indian School; 6 MLB seasons with the Reds, Giants & Braves   \n",
      "2  The city of Yuma in this state has a record average of 4,055 hours of sunshine each year                      \n",
      "3  In 1963, live on \"The Art Linkletter Show\", this company served its billionth burger                          \n",
      "4  Signer of the Dec. of Indep., framer of the Constitution of Mass., second President of the United States      \n",
      "\n",
      "       Answer  \n",
      "0  Copernicus  \n",
      "1  Jim Thorpe  \n",
      "2  Arizona     \n",
      "3  McDonald's  \n",
      "4  John Adams  \n"
     ]
    }
   ],
   "source": [
    "import pandas as pd\n",
    "pd.set_option('display.max_colwidth', -1)\n",
    "df = pd.read_csv('jeopardy.csv')\n",
    "df.columns = df.columns.str.replace(' ', '')\n",
    "print(df.head())"
   ]
  },
  {
   "cell_type": "code",
   "execution_count": 2,
   "metadata": {},
   "outputs": [
    {
     "name": "stdout",
     "output_type": "stream",
     "text": [
      "0    200.0\n",
      "1    200.0\n",
      "2    200.0\n",
      "3    200.0\n",
      "4    200.0\n",
      "Name: ValueFloat, dtype: float64\n"
     ]
    }
   ],
   "source": [
    "df['ValueFloat'] = df['Value'].apply(lambda x: x.split('$')[-1])\n",
    "df['ValueFloat'] = df.ValueFloat.str.replace(',', '')\n",
    "df['ValueFloat'] = pd.to_numeric(df['ValueFloat'],errors='coerce')\n",
    "print(df['ValueFloat'].head())"
   ]
  },
  {
   "cell_type": "markdown",
   "metadata": {},
   "source": [
    "Filter questions about presidents of the United Stes of Aerica:"
   ]
  },
  {
   "cell_type": "code",
   "execution_count": 29,
   "metadata": {},
   "outputs": [
    {
     "name": "stdout",
     "output_type": "stream",
     "text": [
      "   ShowNumber     AirDate             Round                Category   Value  \\\n",
      "0  3447        1999-09-07  Double Jeopardy!  THE CIVIL WAR           $1000    \n",
      "1  6135        2011-04-22  Double Jeopardy!  IT'S A COUP D'ETAT      $2,000   \n",
      "2  4935        2006-02-10  Jeopardy!         FAMOUS NAMES            $600     \n",
      "3  3139        1998-04-02  Double Jeopardy!  PRESIDENTIAL CAMPAIGNS  $800     \n",
      "4  5760        2009-10-02  Jeopardy!         A WORLD OF MEMOIRS      $600     \n",
      "\n",
      "                                                                                                                                                                                                                                                                                                                                                Question  \\\n",
      "0  In February 1861 6 Southern states founded the Confederate States of America & elected him president                                                                                                                                                                                                                                                    \n",
      "1  This S. American president was the leader of an unsuccessful coup in 1992 & was the target of a coup in 2002                                                                                                                                                                                                                                            \n",
      "2  He was president of the United States during the Spanish-American War                                                                                                                                                                                                                                                                                   \n",
      "3  This president asked America to observe Flag Day June 14, 1916, coinciding with the Democratic Convention                                                                                                                                                                                                                                               \n",
      "4  (<a href=\"http://www.j-archive.com/media/2009-10-02_J_28.jpg\" target=\"_blank\">I'm author and journalist Helene Cooper.</a>)  In \"The House at Sugar Beach\", my memoir of a childhood in Liberia, I recount the event that changed my life: the 1980 coup by Sgt. Doe against President Tolbert in this capital city named for the USA's 5th president   \n",
      "\n",
      "             Answer  ValueFloat  \n",
      "0  Jefferson Davis   1000.0      \n",
      "1  Hugo Chavez       2000.0      \n",
      "2  McKinley          600.0       \n",
      "3  (Woodrow) Wilson  800.0       \n",
      "4  Monrovia          600.0       \n",
      "120\n"
     ]
    }
   ],
   "source": [
    "president= df[df['Question'].str.contains('president|President', na=False)]\n",
    "president= president[president['Question'].str.contains('USA|America', na=False)]\n",
    "president = president.reset_index(drop=True)\n",
    "print(president.head())\n",
    "print(len(president))"
   ]
  },
  {
   "cell_type": "markdown",
   "metadata": {},
   "source": [
    "Compare average difficulty of questions about American presidents with the average difficulty of all questions by checking their average value:"
   ]
  },
  {
   "cell_type": "code",
   "execution_count": 12,
   "metadata": {},
   "outputs": [
    {
     "name": "stdout",
     "output_type": "stream",
     "text": [
      "752.5959230365314\n",
      "877.3109243697479\n"
     ]
    }
   ],
   "source": [
    "difficulty_president = president.ValueFloat.mean()\n",
    "difficulty = df.ValueFloat.mean()\n",
    "print(difficulty)\n",
    "print(difficulty_president)"
   ]
  },
  {
   "cell_type": "markdown",
   "metadata": {},
   "source": [
    "Check for unique answers:"
   ]
  },
  {
   "cell_type": "code",
   "execution_count": 31,
   "metadata": {},
   "outputs": [
    {
     "name": "stdout",
     "output_type": "stream",
     "text": [
      "False    95\n",
      "True     25\n",
      "dtype: int64\n"
     ]
    }
   ],
   "source": [
    "duplicates = president.duplicated(subset = 'Answer')\n",
    "print(duplicates.value_counts())"
   ]
  },
  {
   "cell_type": "code",
   "execution_count": 36,
   "metadata": {},
   "outputs": [
    {
     "name": "stdout",
     "output_type": "stream",
     "text": [
      "                Answer  Occurances\n",
      "0  \"Hail to the Chief\"  1         \n",
      "1  (Gilbert) Stuart     1         \n",
      "2  (Woodrow) Wilson     1         \n",
      "3  Abraham Lincoln      2         \n",
      "4  AmeriCorps           1         \n",
      "                Answer  Occurances\n",
      "3   Abraham Lincoln     2         \n",
      "17  Colombia            2         \n",
      "32  George Washington   4         \n",
      "36  Honduras            2         \n",
      "48  Lyndon Johnson      2         \n",
      "49  Martin Van Buren    2         \n",
      "51  McKinley            2         \n",
      "52  Mexico              3         \n",
      "53  Michael Douglas     2         \n",
      "58  Nicaragua           2         \n",
      "65  Richard M. Nixon    2         \n",
      "66  Ronald Reagan       2         \n",
      "73  Susan B. Anthony    3         \n",
      "75  Teddy Roosevelt     4         \n",
      "76  Theodore Roosevelt  3         \n",
      "78  Thomas Jefferson    3         \n",
      "87  William McKinley    2         \n"
     ]
    }
   ],
   "source": [
    "dups = president.pivot_table(index = ['Answer'], aggfunc ='size')\n",
    "dups = pd.DataFrame({'Answer':dups.index, 'Occurances':dups.values})\n",
    "print(dups.head())\n",
    "print(dups[dups.Occurances > 1])"
   ]
  },
  {
   "cell_type": "markdown",
   "metadata": {},
   "source": [
    "It seems that the two most common answers were 'George Washington' and 'Teddy Roosevelt'.\n",
    "\n",
    "Now let's check if the questions reflect the technological advancements of each time period, specifically the frequency of questions containing the word computer, before and after the year 2000:"
   ]
  },
  {
   "cell_type": "code",
   "execution_count": 46,
   "metadata": {},
   "outputs": [
    {
     "name": "stdout",
     "output_type": "stream",
     "text": [
      "2012-01-27 00:00:00\n",
      "1984-09-10 00:00:00\n"
     ]
    }
   ],
   "source": [
    "df.AirDate = pd.to_datetime(df.AirDate)\n",
    "latest = df.AirDate.max()\n",
    "earliest = df.AirDate.min()\n",
    "print(latest)\n",
    "print(earliest)"
   ]
  },
  {
   "cell_type": "code",
   "execution_count": 56,
   "metadata": {},
   "outputs": [
    {
     "name": "stdout",
     "output_type": "stream",
     "text": [
      "431\n",
      "104\n",
      "327\n"
     ]
    }
   ],
   "source": [
    "import datetime\n",
    "\n",
    "two_thousand = datetime.datetime(2000, 1, 1)\n",
    "\n",
    "computer = df[df.Question.str.contains('omputer', na=False)]\n",
    "print(len(computer))\n",
    "\n",
    "computer_pre2000 = computer[computer.AirDate < two_thousand]\n",
    "print(len(computer_pre2000))\n",
    "computer_post2000 = computer[computer.AirDate >= two_thousand]\n",
    "print(len(computer_post2000))"
   ]
  },
  {
   "cell_type": "markdown",
   "metadata": {},
   "source": [
    "Approximately 75% of the computer questions occured during and after the year 2000.\n",
    "\n",
    "Now let's check the difficulty assigned to specific categories:"
   ]
  },
  {
   "cell_type": "code",
   "execution_count": 57,
   "metadata": {},
   "outputs": [
    {
     "name": "stdout",
     "output_type": "stream",
     "text": [
      "Round\n",
      "Double Jeopardy!    105912\n",
      "Final Jeopardy!     3631  \n",
      "Jeopardy!           107384\n",
      "Tiebreaker          3     \n",
      "dtype: int64\n"
     ]
    }
   ],
   "source": [
    "categories = df.pivot_table(index = ['Round'], aggfunc ='size')\n",
    "print(categories)"
   ]
  },
  {
   "cell_type": "code",
   "execution_count": 63,
   "metadata": {},
   "outputs": [
    {
     "name": "stdout",
     "output_type": "stream",
     "text": [
      "Round\n",
      "Double Jeopardy!    49\n",
      "Final Jeopardy!     1 \n",
      "Jeopardy!           15\n",
      "dtype: int64\n"
     ]
    }
   ],
   "source": [
    "economics = df[df.Category == 'ECONOMICS']\n",
    "economics_categories = economics.pivot_table(index = ['Round'], aggfunc ='size')\n",
    "print(economics_categories)"
   ]
  },
  {
   "cell_type": "markdown",
   "metadata": {},
   "source": [
    "For example the category 'ECONOMICS' appears mostly in the second round, which is considered to be of intermediate difficulty. It does not appear very often in the first round and it only appeared once in the final round."
   ]
  },
  {
   "cell_type": "code",
   "execution_count": 64,
   "metadata": {},
   "outputs": [
    {
     "name": "stdout",
     "output_type": "stream",
     "text": [
      "Round\n",
      "Double Jeopardy!    194\n",
      "Jeopardy!           155\n",
      "dtype: int64\n"
     ]
    }
   ],
   "source": [
    "history = df[df.Category == 'HISTORY']\n",
    "history_categories = history.pivot_table(index = ['Round'], aggfunc = 'size')\n",
    "print(history_categories)"
   ]
  },
  {
   "cell_type": "markdown",
   "metadata": {},
   "source": [
    "The category 'HISTORY' appears way more often than 'ECONOMICS', but only in the first two rounds."
   ]
  }
 ],
 "metadata": {
  "kernelspec": {
   "display_name": "Python 3",
   "language": "python",
   "name": "python3"
  },
  "language_info": {
   "codemirror_mode": {
    "name": "ipython",
    "version": 3
   },
   "file_extension": ".py",
   "mimetype": "text/x-python",
   "name": "python",
   "nbconvert_exporter": "python",
   "pygments_lexer": "ipython3",
   "version": "3.8.5"
  }
 },
 "nbformat": 4,
 "nbformat_minor": 4
}
